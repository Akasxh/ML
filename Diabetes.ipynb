{
  "nbformat": 4,
  "nbformat_minor": 0,
  "metadata": {
    "colab": {
      "provenance": [],
      "authorship_tag": "ABX9TyNUzTJqgIS/l+Hy3hpdhTlZ",
      "include_colab_link": true
    },
    "kernelspec": {
      "name": "python3",
      "display_name": "Python 3"
    },
    "language_info": {
      "name": "python"
    }
  },
  "cells": [
    {
      "cell_type": "markdown",
      "metadata": {
        "id": "view-in-github",
        "colab_type": "text"
      },
      "source": [
        "<a href=\"https://colab.research.google.com/github/Akasxh/ML/blob/main/Diabetes.ipynb\" target=\"_parent\"><img src=\"https://colab.research.google.com/assets/colab-badge.svg\" alt=\"Open In Colab\"/></a>"
      ]
    },
    {
      "cell_type": "code",
      "execution_count": 8,
      "metadata": {
        "id": "ydxa0JWuwaGA"
      },
      "outputs": [],
      "source": [
        "import pandas as pd\n",
        "import numpy as np\n",
        "import matplotlib.pyplot as plt\n",
        "import seaborn as sns\n",
        "from sklearn.model_selection import train_test_split\n",
        "#for all models to test\n",
        "from sklearn.linear_model import LogisticRegression\n",
        "from sklearn.linear_model import LinearRegression\n",
        "from sklearn.ensemble import RandomForestClassifier\n",
        "from sklearn.tree import DecisionTreeClassifier\n",
        "from sklearn.metrics import accuracy_score"
      ]
    },
    {
      "cell_type": "code",
      "source": [
        "# creating the data frame\n",
        "# its all random so the predicted results may not be always correct\n",
        "df = pd.DataFrame({\n",
        "    'Age': np.random.choice(range(25, 71), 50),\n",
        "    'Gender': np.random.choice(['Male', 'Female'], 50),\n",
        "    'BMI': np.random.uniform(18, 40, 50),\n",
        "    'Blood_Pressure': np.random.choice(range(80, 181), 50),\n",
        "    'Glucose': np.random.choice(range(70, 201), 50),\n",
        "    'Insulin': np.random.choice(range(0, 301), 50),\n",
        "    'Cholesterol': np.random.uniform(100, 300, 50),\n",
        "    'HbA1c': np.random.uniform(4, 12, 50),\n",
        "    'Status': np.random.choice(['Yes', 'No'], 50)\n",
        "})"
      ],
      "metadata": {
        "id": "DZ2XPMeQwazs"
      },
      "execution_count": 9,
      "outputs": []
    },
    {
      "cell_type": "code",
      "source": [
        "# Convert Gender and Status to numeric to make it usuable\n",
        "df['Gender'] = pd.factorize(df['Gender'])[0] # 0 for male and 1 for female acc to above df\n",
        "df['Status'] = pd.factorize(df['Status'])[0] # 0 for yes and 1 for no"
      ],
      "metadata": {
        "id": "xnlJTwURweKK"
      },
      "execution_count": 10,
      "outputs": []
    },
    {
      "cell_type": "code",
      "source": [
        "# Split the data into training and testing sets this for training my LR model or any other model\n",
        "X_train, X_test, y_train, y_test = train_test_split(\n",
        "    df[['Age', 'Gender', 'BMI', 'Blood_Pressure']],\n",
        "    df['Status'],\n",
        "    test_size=0.2,\n",
        "    random_state=42\n",
        ")"
      ],
      "metadata": {
        "id": "ytfcYazGwlAu"
      },
      "execution_count": 32,
      "outputs": []
    },
    {
      "cell_type": "code",
      "source": [
        "# classification model use any that have been imported to see better accuracy\n",
        "#LogisticRegression #RandomForestClassifier #DecisionTreeClassifier #LinearRegression btw LR doesnt predict well in classific\n",
        "model = LogisticRegression()\n",
        "model.fit(X_train, y_train)"
      ],
      "metadata": {
        "colab": {
          "base_uri": "https://localhost:8080/",
          "height": 74
        },
        "id": "7gaQ9EBvwoOt",
        "outputId": "b2c3745f-032d-4622-b9db-cb719eb5d04c"
      },
      "execution_count": 33,
      "outputs": [
        {
          "output_type": "execute_result",
          "data": {
            "text/plain": [
              "LogisticRegression()"
            ],
            "text/html": [
              "<style>#sk-container-id-3 {color: black;background-color: white;}#sk-container-id-3 pre{padding: 0;}#sk-container-id-3 div.sk-toggleable {background-color: white;}#sk-container-id-3 label.sk-toggleable__label {cursor: pointer;display: block;width: 100%;margin-bottom: 0;padding: 0.3em;box-sizing: border-box;text-align: center;}#sk-container-id-3 label.sk-toggleable__label-arrow:before {content: \"▸\";float: left;margin-right: 0.25em;color: #696969;}#sk-container-id-3 label.sk-toggleable__label-arrow:hover:before {color: black;}#sk-container-id-3 div.sk-estimator:hover label.sk-toggleable__label-arrow:before {color: black;}#sk-container-id-3 div.sk-toggleable__content {max-height: 0;max-width: 0;overflow: hidden;text-align: left;background-color: #f0f8ff;}#sk-container-id-3 div.sk-toggleable__content pre {margin: 0.2em;color: black;border-radius: 0.25em;background-color: #f0f8ff;}#sk-container-id-3 input.sk-toggleable__control:checked~div.sk-toggleable__content {max-height: 200px;max-width: 100%;overflow: auto;}#sk-container-id-3 input.sk-toggleable__control:checked~label.sk-toggleable__label-arrow:before {content: \"▾\";}#sk-container-id-3 div.sk-estimator input.sk-toggleable__control:checked~label.sk-toggleable__label {background-color: #d4ebff;}#sk-container-id-3 div.sk-label input.sk-toggleable__control:checked~label.sk-toggleable__label {background-color: #d4ebff;}#sk-container-id-3 input.sk-hidden--visually {border: 0;clip: rect(1px 1px 1px 1px);clip: rect(1px, 1px, 1px, 1px);height: 1px;margin: -1px;overflow: hidden;padding: 0;position: absolute;width: 1px;}#sk-container-id-3 div.sk-estimator {font-family: monospace;background-color: #f0f8ff;border: 1px dotted black;border-radius: 0.25em;box-sizing: border-box;margin-bottom: 0.5em;}#sk-container-id-3 div.sk-estimator:hover {background-color: #d4ebff;}#sk-container-id-3 div.sk-parallel-item::after {content: \"\";width: 100%;border-bottom: 1px solid gray;flex-grow: 1;}#sk-container-id-3 div.sk-label:hover label.sk-toggleable__label {background-color: #d4ebff;}#sk-container-id-3 div.sk-serial::before {content: \"\";position: absolute;border-left: 1px solid gray;box-sizing: border-box;top: 0;bottom: 0;left: 50%;z-index: 0;}#sk-container-id-3 div.sk-serial {display: flex;flex-direction: column;align-items: center;background-color: white;padding-right: 0.2em;padding-left: 0.2em;position: relative;}#sk-container-id-3 div.sk-item {position: relative;z-index: 1;}#sk-container-id-3 div.sk-parallel {display: flex;align-items: stretch;justify-content: center;background-color: white;position: relative;}#sk-container-id-3 div.sk-item::before, #sk-container-id-3 div.sk-parallel-item::before {content: \"\";position: absolute;border-left: 1px solid gray;box-sizing: border-box;top: 0;bottom: 0;left: 50%;z-index: -1;}#sk-container-id-3 div.sk-parallel-item {display: flex;flex-direction: column;z-index: 1;position: relative;background-color: white;}#sk-container-id-3 div.sk-parallel-item:first-child::after {align-self: flex-end;width: 50%;}#sk-container-id-3 div.sk-parallel-item:last-child::after {align-self: flex-start;width: 50%;}#sk-container-id-3 div.sk-parallel-item:only-child::after {width: 0;}#sk-container-id-3 div.sk-dashed-wrapped {border: 1px dashed gray;margin: 0 0.4em 0.5em 0.4em;box-sizing: border-box;padding-bottom: 0.4em;background-color: white;}#sk-container-id-3 div.sk-label label {font-family: monospace;font-weight: bold;display: inline-block;line-height: 1.2em;}#sk-container-id-3 div.sk-label-container {text-align: center;}#sk-container-id-3 div.sk-container {/* jupyter's `normalize.less` sets `[hidden] { display: none; }` but bootstrap.min.css set `[hidden] { display: none !important; }` so we also need the `!important` here to be able to override the default hidden behavior on the sphinx rendered scikit-learn.org. See: https://github.com/scikit-learn/scikit-learn/issues/21755 */display: inline-block !important;position: relative;}#sk-container-id-3 div.sk-text-repr-fallback {display: none;}</style><div id=\"sk-container-id-3\" class=\"sk-top-container\"><div class=\"sk-text-repr-fallback\"><pre>LogisticRegression()</pre><b>In a Jupyter environment, please rerun this cell to show the HTML representation or trust the notebook. <br />On GitHub, the HTML representation is unable to render, please try loading this page with nbviewer.org.</b></div><div class=\"sk-container\" hidden><div class=\"sk-item\"><div class=\"sk-estimator sk-toggleable\"><input class=\"sk-toggleable__control sk-hidden--visually\" id=\"sk-estimator-id-3\" type=\"checkbox\" checked><label for=\"sk-estimator-id-3\" class=\"sk-toggleable__label sk-toggleable__label-arrow\">LogisticRegression</label><div class=\"sk-toggleable__content\"><pre>LogisticRegression()</pre></div></div></div></div></div>"
            ]
          },
          "metadata": {},
          "execution_count": 33
        }
      ]
    },
    {
      "cell_type": "code",
      "source": [
        "# Make predictions on the test set\n",
        "predictions = model.predict(X_test)"
      ],
      "metadata": {
        "id": "hJyT1TmExYaj"
      },
      "execution_count": 34,
      "outputs": []
    },
    {
      "cell_type": "code",
      "source": [
        "# Calculate accuracy by comparing y_test and our actual prediction\n",
        "accuracy = accuracy_score(y_test, predictions)\n",
        "print(f\"Accuracy: {accuracy}\")\n",
        "print(\"Acurracy can vary as we have randomised data in df and not actual data\")\n",
        "#the acurracy can vary as we are having randomised value in our dataframe"
      ],
      "metadata": {
        "colab": {
          "base_uri": "https://localhost:8080/"
        },
        "id": "xkx_JU--xfFC",
        "outputId": "d088abd1-17c5-4ec5-b1e3-0c73d233eb6c"
      },
      "execution_count": 35,
      "outputs": [
        {
          "output_type": "stream",
          "name": "stdout",
          "text": [
            "Accuracy: 0.5\n",
            "Acurracy can vary as we have randomised data in df and not actual data\n"
          ]
        }
      ]
    },
    {
      "cell_type": "code",
      "source": [
        "#plots\n",
        "# Plot histograms for HbA1c and BMI\n",
        "plt.figure(figsize=(12, 5))\n",
        "\n",
        "plt.subplot(1, 2, 1)\n",
        "sns.histplot(df['HbA1c'], bins=10, color='red')\n",
        "plt.title('Histogram of HbA1c')\n",
        "#set intervals as you like here i've taken bin = 10 default is 15\n",
        "plt.subplot(1, 2, 2)\n",
        "sns.histplot(df['BMI'], bins=10, color='orange')\n",
        "plt.title('Histogram of BMI')\n",
        "\n",
        "plt.show()"
      ],
      "metadata": {
        "colab": {
          "base_uri": "https://localhost:8080/",
          "height": 487
        },
        "id": "rWeDQ-g-xifx",
        "outputId": "452f0ef0-95e3-4551-eac6-35c8c06d3fb1"
      },
      "execution_count": 36,
      "outputs": [
        {
          "output_type": "display_data",
          "data": {
            "text/plain": [
              "<Figure size 1200x500 with 2 Axes>"
            ],
            "image/png": "[encoded data removed]"
          },
          "metadata": {}
        }
      ]
    },
    {
      "cell_type": "code",
      "source": [
        "# Bar plot for Status\n",
        "plt.figure(figsize=(5, 5))\n",
        "sns.countplot(x='Status', data=df)\n",
        "plt.title('Bar Plot of Status')\n",
        "plt.xlabel('Status')\n",
        "plt.ylabel('Count')\n",
        "plt.show()"
      ],
      "metadata": {
        "colab": {
          "base_uri": "https://localhost:8080/",
          "height": 487
        },
        "id": "d_wcBprNyFea",
        "outputId": "d782ac28-c206-46de-c425-b1c36d6eeb28"
      },
      "execution_count": 37,
      "outputs": [
        {
          "output_type": "display_data",
          "data": {
            "text/plain": [
              "<Figure size 500x500 with 1 Axes>"
            ],
            "image/png": "[encoded data removed]"
          },
          "metadata": {}
        }
      ]
    },
    {
      "cell_type": "code",
      "source": [
        "# Function to predict the class for a new patient\n",
        "def predict_new_patient(model, new_data):\n",
        "    new_data = pd.DataFrame(new_data, index=[0])  # Convert to DataFrame\n",
        "    predicted_probabilities = model.predict_proba(new_data[['Age', 'Gender', 'BMI', 'Blood_Pressure']])[:, 1]\n",
        "    predicted_class = (predicted_probabilities > 0.5).astype(int) #for 0:flase and 1:true in integer as the value is always bw 0:1\n",
        "    return predicted_class[0]"
      ],
      "metadata": {
        "id": "w3wMw67GzEKw"
      },
      "execution_count": 39,
      "outputs": []
    },
    {
      "cell_type": "code",
      "source": [
        "# data of the patient\n",
        "new_patient_data = {\n",
        "    'Age': float(input(\"Enter Age: \")),\n",
        "    'Gender': int(input(\"Enter Gender (1 for Female, 0 for Male): \")),\n",
        "    'BMI': float(input(\"Enter BMI(5-30 normal): \")),\n",
        "    'Blood_Pressure': float(input(\"Enter Blood Pressure(60-120 normal): \")),\n",
        "}"
      ],
      "metadata": {
        "colab": {
          "base_uri": "https://localhost:8080/"
        },
        "id": "YyuYtJYpzbxQ",
        "outputId": "7203ecf7-71bf-4fc2-aa4a-8f89584af668"
      },
      "execution_count": 45,
      "outputs": [
        {
          "name": "stdout",
          "output_type": "stream",
          "text": [
            "Enter Age: 99\n",
            "Enter Gender (1 for Female, 0 for Male): 0\n",
            "Enter BMI(5-30 normal): 30\n",
            "Enter Blood Pressure(60-120 normal): 120\n"
          ]
        }
      ]
    },
    {
      "cell_type": "code",
      "source": [
        "prediction_for_new_patient = predict_new_patient(model, new_patient_data)\n",
        "print(f\"Predicted Class for New Patient: {prediction_for_new_patient}\")\n",
        "print(\"0:no diabetes 1:diabetes\")"
      ],
      "metadata": {
        "colab": {
          "base_uri": "https://localhost:8080/"
        },
        "id": "XQ0lVMEG0f8U",
        "outputId": "85fef922-5459-4711-da33-56c38aca0d4e"
      },
      "execution_count": 46,
      "outputs": [
        {
          "output_type": "stream",
          "name": "stdout",
          "text": [
            "Predicted Class for New Patient: 1\n",
            "0:no diabetes 1:diabetes\n"
          ]
        }
      ]
    }
  ]
}